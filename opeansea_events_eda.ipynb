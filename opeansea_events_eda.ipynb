{
 "cells": [
  {
   "cell_type": "markdown",
   "id": "fa1d8390-5063-4b92-9696-ae6f1634aaab",
   "metadata": {
    "tags": []
   },
   "source": [
    "# OpenSea Events EDA\n",
    "\n",
    "Event dataset extracted and provided by [莊惟翔](https://github.com/Fred-Zhuang)\n",
    "\n",
    "for hypothesizing NFT FOMO"
   ]
  },
  {
   "cell_type": "markdown",
   "id": "f3e54979-5f8f-4cb4-b831-5d4c701f7e02",
   "metadata": {
    "tags": []
   },
   "source": [
    "# Read data"
   ]
  },
  {
   "cell_type": "code",
   "execution_count": 1,
   "id": "cbdace30-9e4b-456d-a9ac-cf75d6f6be57",
   "metadata": {},
   "outputs": [],
   "source": [
    "import os\n",
    "import re\n",
    "\n",
    "data_dir = os.path.join(os.getcwd(), 'data')\n",
    "cool_cats_nft_dir = os.path.join(data_dir, 'cool-cats-nft')"
   ]
  },
  {
   "cell_type": "code",
   "execution_count": 2,
   "id": "a2c489bb-1b96-43ab-b9cc-dd928b5ab3e2",
   "metadata": {},
   "outputs": [],
   "source": [
    "import pandas as pd\n",
    "import time\n",
    "\n",
    "def read_combine(io):\n",
    "    \"\"\"\n",
    "    Read a list of Excel files and combine them into a panadas DataFrame\n",
    "    \n",
    "    Args:\n",
    "        io (list): list of fully qualitifed filenames\n",
    "        \n",
    "    Returns:\n",
    "        DataFrame\n",
    "    \"\"\"\n",
    "    \n",
    "    list_df = (pd.read_excel(each) for each in io)\n",
    "    return pd.concat(list_df)"
   ]
  },
  {
   "cell_type": "code",
   "execution_count": 3,
   "id": "d0b49f0a-6f53-477f-bc0b-d2ec5cae4d16",
   "metadata": {
    "tags": []
   },
   "outputs": [
    {
     "name": "stdout",
     "output_type": "stream",
     "text": [
      "['os_successful_events_A.xlsx', 'os_successful_events_B.xlsx']\n",
      "total minutes to load: 7.0546733975410465\n"
     ]
    }
   ],
   "source": [
    "successful_events = [x for x in os.listdir(data_dir) if re.search('^os_successful_events_.\\.xlsx', x)]\n",
    "print(successful_events)\n",
    "\n",
    "files = [os.path.join(data_dir, x) for x in successful_events]\n",
    "start_time = time.time()\n",
    "events = read_combine(files)\n",
    "total_time = time.time() - start_time\n",
    "print(\"total minutes to load:\", total_time / 60)"
   ]
  },
  {
   "cell_type": "code",
   "execution_count": 4,
   "id": "98643e39-da8c-4ed6-9d90-80a7e21b6716",
   "metadata": {
    "tags": []
   },
   "outputs": [
    {
     "name": "stdout",
     "output_type": "stream",
     "text": [
      "<class 'pandas.core.frame.DataFrame'>\n",
      "Int64Index: 1270525 entries, 0 to 451391\n",
      "Data columns (total 26 columns):\n",
      " #   Column                  Non-Null Count    Dtype  \n",
      "---  ------                  --------------    -----  \n",
      " 0   Unnamed: 0              1270525 non-null  int64  \n",
      " 1   event_timestamp         1270525 non-null  object \n",
      " 2   event_type              1270525 non-null  object \n",
      " 3   token_id                1265379 non-null  float64\n",
      " 4   num_sales               1265379 non-null  float64\n",
      " 5   listing_time            1216939 non-null  object \n",
      " 6   token_owner_address     1265379 non-null  object \n",
      " 7   token_seller_address    1270525 non-null  object \n",
      " 8   deal_price              1270525 non-null  float64\n",
      " 9   payment_token_symbol    1270525 non-null  object \n",
      " 10  payment_token_decimals  1270525 non-null  int64  \n",
      " 11  payment_token_usdprice  1270436 non-null  float64\n",
      " 12  quantity                1269968 non-null  float64\n",
      " 13  starting_price          0 non-null        float64\n",
      " 14  ending_price            0 non-null        float64\n",
      " 15  approved_account        0 non-null        float64\n",
      " 16  asset_bundle            5156 non-null     object \n",
      " 17  auction_type            89 non-null       object \n",
      " 18  bid_amount              0 non-null        float64\n",
      " 19  transaction_hash        1270525 non-null  object \n",
      " 20  block_hash              1270436 non-null  object \n",
      " 21  block_number            1270436 non-null  float64\n",
      " 22  is_private              1216939 non-null  float64\n",
      " 23  duration                0 non-null        float64\n",
      " 24  created_date            1270525 non-null  object \n",
      " 25  collection_slug         1270525 non-null  object \n",
      "dtypes: float64(12), int64(2), object(12)\n",
      "memory usage: 261.7+ MB\n"
     ]
    }
   ],
   "source": [
    "events.info()"
   ]
  },
  {
   "cell_type": "code",
   "execution_count": 33,
   "id": "ebdb43b7-b160-4827-889e-5219db0c9a0d",
   "metadata": {},
   "outputs": [],
   "source": [
    "events[\"event_timestamp\"] = pd.to_datetime(events[\"event_timestamp\"])\n",
    "events[\"listing_time\"] = pd.to_datetime(events[\"listing_time\"])\n",
    "events[\"created_date\"] = pd.to_datetime(events[\"created_date\"])"
   ]
  },
  {
   "cell_type": "code",
   "execution_count": 38,
   "id": "59878536-e1e3-412e-a507-8ba31fdd4acc",
   "metadata": {},
   "outputs": [
    {
     "data": {
      "text/plain": [
       "188441"
      ]
     },
     "execution_count": 38,
     "metadata": {},
     "output_type": "execute_result"
    }
   ],
   "source": [
    "events.token_owner_address.nunique()"
   ]
  },
  {
   "cell_type": "code",
   "execution_count": 39,
   "id": "b9395cf6-3f8e-41b1-8a81-e223cad16593",
   "metadata": {},
   "outputs": [
    {
     "data": {
      "text/plain": [
       "224229"
      ]
     },
     "execution_count": 39,
     "metadata": {},
     "output_type": "execute_result"
    }
   ],
   "source": [
    "events.token_seller_address.nunique()"
   ]
  },
  {
   "cell_type": "code",
   "execution_count": 43,
   "id": "47952b43-247e-41c5-a32f-349d78578d4c",
   "metadata": {},
   "outputs": [
    {
     "data": {
      "text/plain": [
       "array(['phantabear', 'cool-cats-nft', 'look-labs-game-key', 'cryptocoven',\n",
       "       'psychedelics-anonymous-component-1', 'bored-ape-kennel-club',\n",
       "       'metaverse-psychedelics-anonymous-pass',\n",
       "       'irl-psychedelics-anonymous-pass', 'fluf-world-thingies',\n",
       "       'warkittens', 'inbetweeners', 'fluf-world-burrows',\n",
       "       'impostors-genesis-aliens', 'acrocalypse', 'veefriends',\n",
       "       'veecon-tickets', 'beanzofficial', 'boredapeyachtclub',\n",
       "       'murixhaus', 'nft-worlds', 'mfers', 'cyberbrokers', '3landers',\n",
       "       'alienfrensnft', 'los-muertos-world', 'deadfellaz', 'babydogearmy',\n",
       "       'doodles-official', 'proof-moonbirds', 'babywizards',\n",
       "       'asm-aifa-genesis', 'shinsekaicorp', 'anonymice', 'fluf',\n",
       "       'coolmans-universe', 'creatureworld', 'jrny-club-official',\n",
       "       'chain-runners-nft', 'rebelbots', 'metacraft-season-pass-2022',\n",
       "       'byopill', 'notorious-frogs', 'snoop-dogg-doggies',\n",
       "       'mutantshibaclub', 'thelittlesnft', 'froyokittenscollection',\n",
       "       'official-kreepy-club', 'punkscapes', 'netvrkland',\n",
       "       'catbloxgenesis', 'livesofasuna', 'gen-f', 'tcg-world-dragons',\n",
       "       '0xapes-trilogy', 'foxfam', 'wvrps-by-warpsound',\n",
       "       'beans-dumb-ways-to-die', 'internetfrens', 'cryptocannabisclub',\n",
       "       'gamaspacestation', 'paladin-pandas', 'chibidinos',\n",
       "       'womenandweapons', 'alien-frens-evolution', 'metacard-by-fullsend',\n",
       "       'loser-club-official', 'pixelmongen1', 'cryptoskulls', 'supducks',\n",
       "       'mpl-official', 'kiwami-genesis', 'capsulehouse',\n",
       "       'pirates-of-the-metaverse-by-drip-studios', 'starcatchersnft',\n",
       "       'grayboys', 'lazy-lions', 'dourdarcels', 'rumble-kong-league',\n",
       "       'theshiboshis', 'antebellumgenesisland', 'ilyyw', 'sappy-seals',\n",
       "       'wonderpals', 'galaxy-fight-club', 'clementines-nightmare-eclipse',\n",
       "       'purrnelopes-country-club', 'thingdoms', 'evaverse',\n",
       "       'drugreceipts', 'bitmates', 'robotos-official', 'ghostsproject'],\n",
       "      dtype=object)"
      ]
     },
     "execution_count": 43,
     "metadata": {},
     "output_type": "execute_result"
    }
   ],
   "source": [
    "events.collection_slug.unique()"
   ]
  },
  {
   "cell_type": "code",
   "execution_count": 45,
   "id": "50e02a81-8c82-440e-817f-973ba6c5c1cb",
   "metadata": {},
   "outputs": [
    {
     "data": {
      "text/plain": [
       "8398"
      ]
     },
     "execution_count": 45,
     "metadata": {},
     "output_type": "execute_result"
    }
   ],
   "source": [
    "events[events.collection_slug == 'cool-cats-nft'][\"token_seller_address\"].nunique()"
   ]
  },
  {
   "cell_type": "code",
   "execution_count": 40,
   "id": "a1dfd973-2ff1-4e6e-be5d-dfda34fb74d3",
   "metadata": {
    "tags": []
   },
   "outputs": [
    {
     "name": "stdout",
     "output_type": "stream",
     "text": [
      "['coolcatsnft_A1.xlsx', 'coolcatsnft_A2.xlsx', 'coolcatsnft_A3.xlsx']\n"
     ]
    }
   ],
   "source": [
    "coolcats_wallets = [x for x in os.listdir(cool_cats_nft_dir) if re.search('^coolcatsnft_A\\d\\.xlsx', x)]\n",
    "print(coolcats_wallets)"
   ]
  },
  {
   "cell_type": "code",
   "execution_count": 41,
   "id": "3d056a05-c200-4edb-b9fd-d975d5d58894",
   "metadata": {},
   "outputs": [
    {
     "name": "stdout",
     "output_type": "stream",
     "text": [
      "total minutes to load: 16.621446255842844\n"
     ]
    }
   ],
   "source": [
    "files = [os.path.join(cool_cats_nft_dir, x) for x in coolcats_wallets]\n",
    "start_time = time.time()\n",
    "wallets = read_combine(files)\n",
    "total_time = time.time() - start_time\n",
    "print(\"total minutes to load:\", total_time / 60)"
   ]
  },
  {
   "cell_type": "code",
   "execution_count": 42,
   "id": "e1a33153-7c41-4129-ac5e-23cdd391f093",
   "metadata": {},
   "outputs": [
    {
     "name": "stdout",
     "output_type": "stream",
     "text": [
      "<class 'pandas.core.frame.DataFrame'>\n",
      "Int64Index: 2399422 entries, 0 to 399421\n",
      "Data columns (total 32 columns):\n",
      " #   Column                  Dtype  \n",
      "---  ------                  -----  \n",
      " 0   Unnamed: 0              int64  \n",
      " 1   Unnamed: 1              int64  \n",
      " 2   event_timestamp         object \n",
      " 3   event_type              object \n",
      " 4   token_id                object \n",
      " 5   num_sales               float64\n",
      " 6   listing_time            object \n",
      " 7   token_owner_address     object \n",
      " 8   token_seller_address    object \n",
      " 9   deal_price              float64\n",
      " 10  payment_token_symbol    object \n",
      " 11  payment_token_decimals  float64\n",
      " 12  payment_token_usdprice  float64\n",
      " 13  quantity                object \n",
      " 14  starting_price          float64\n",
      " 15  ending_price            float64\n",
      " 16  approved_account        float64\n",
      " 17  asset_bundle            object \n",
      " 18  auction_type            object \n",
      " 19  bid_amount              float64\n",
      " 20  transaction_hash        object \n",
      " 21  block_hash              object \n",
      " 22  block_number            float64\n",
      " 23  is_private              float64\n",
      " 24  duration                float64\n",
      " 25  created_date            object \n",
      " 26  collection_slug         object \n",
      " 27  contract_address        object \n",
      " 28  wallet_address_input    object \n",
      " 29  pages                   int64  \n",
      " 30  msg                     object \n",
      " 31  FILTER                  float64\n",
      "dtypes: float64(12), int64(3), object(17)\n",
      "memory usage: 604.1+ MB\n"
     ]
    }
   ],
   "source": [
    "wallets.info()"
   ]
  },
  {
   "cell_type": "code",
   "execution_count": 46,
   "id": "1f147a51-a197-4be5-87bd-e83531466b67",
   "metadata": {},
   "outputs": [
    {
     "data": {
      "text/plain": [
       "10512"
      ]
     },
     "execution_count": 46,
     "metadata": {},
     "output_type": "execute_result"
    }
   ],
   "source": [
    "wallets[\"wallet_address_input\"].nunique()"
   ]
  },
  {
   "cell_type": "code",
   "execution_count": 49,
   "id": "c6b66b09-f0e5-4658-9ef9-33891c5f637d",
   "metadata": {},
   "outputs": [
    {
     "data": {
      "text/plain": [
       "[0         0xb95515212d39aed9b8e4da62a2e2e31cf7ac03d7\n",
       " 1         0x8018aa6b23cb4bb658c98cf787da53b6f1a50fa6\n",
       " 2         0xdaaed10350bbf6f7481bff01f1e1b719e1cf391b\n",
       " 3         0x1efcfa6055f782a9c6d5091e9fa1e5a673574ad3\n",
       " 4         0xeca7e8fc064f64b5394fa6689fe31e4fcb331698\n",
       "                              ...                    \n",
       " 451387    0x351b04730cfb4d4b94446fec212117a89f8d5982\n",
       " 451388    0xa321785a54c35951b7a32b87aff58409efc594d9\n",
       " 451389    0x63ea0dde5c90a551e4f32db607698ffd046debc7\n",
       " 451390    0x4adf0dbc8bb29a61be114c22879202a76790c9d9\n",
       " 451391    0x68eb1447c4a7b5ae50114f557512e40552a9e4b4\n",
       " Name: token_owner_address, Length: 1270525, dtype: object,\n",
       " 0         0x9b5a952a364463008f824822a1e6069ed1e9935e\n",
       " 1         0x008c9f31533dd2a327d0ff28b6fe87194de1e3d3\n",
       " 2         0x3baaac46cfa8de80daf02ae3970002125410a4b3\n",
       " 3         0xe2ead8e3b4f642f8b39cb4165aecf6d1ef3022a0\n",
       " 4         0xaed009c79e1d7978fd3b87ebe6d1f1fa3c542161\n",
       "                              ...                    \n",
       " 451387    0x2ee90393fb6d487f900b3bda3cbaeaf4fce4aebb\n",
       " 451388    0x281c5a0fb9b0ca4bf0d5f418db52b57bccf35ced\n",
       " 451389    0x37ac09e1640577e1d71e3787297a56b58f88f0f2\n",
       " 451390    0x37ac09e1640577e1d71e3787297a56b58f88f0f2\n",
       " 451391    0x37ac09e1640577e1d71e3787297a56b58f88f0f2\n",
       " Name: token_seller_address, Length: 1270525, dtype: object]"
      ]
     },
     "execution_count": 49,
     "metadata": {},
     "output_type": "execute_result"
    }
   ],
   "source": [
    "[events[\"token_owner_address\"], events.token_seller_address]"
   ]
  },
  {
   "cell_type": "code",
   "execution_count": 64,
   "id": "444730dc-82b0-4f7f-a2dc-eff00a83c8fb",
   "metadata": {},
   "outputs": [
    {
     "data": {
      "text/plain": [
       "338356"
      ]
     },
     "execution_count": 64,
     "metadata": {},
     "output_type": "execute_result"
    }
   ],
   "source": [
    "pd.concat([events.token_seller_address, events.token_owner_address]).nunique()"
   ]
  },
  {
   "cell_type": "code",
   "execution_count": null,
   "id": "550fda3d-ae98-498d-b6e1-54d27a81bd63",
   "metadata": {},
   "outputs": [],
   "source": []
  }
 ],
 "metadata": {
  "kernelspec": {
   "display_name": "Python 3 (ipykernel)",
   "language": "python",
   "name": "python3"
  },
  "language_info": {
   "codemirror_mode": {
    "name": "ipython",
    "version": 3
   },
   "file_extension": ".py",
   "mimetype": "text/x-python",
   "name": "python",
   "nbconvert_exporter": "python",
   "pygments_lexer": "ipython3",
   "version": "3.10.4"
  }
 },
 "nbformat": 4,
 "nbformat_minor": 5
}
